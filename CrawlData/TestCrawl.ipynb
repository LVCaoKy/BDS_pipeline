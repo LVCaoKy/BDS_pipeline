{
 "cells": [
  {
   "cell_type": "code",
   "execution_count": 8,
   "metadata": {},
   "outputs": [],
   "source": [
    "import numpy as np\n",
    "from selenium import webdriver\n",
    "from time import sleep\n",
    "import re\n",
    "from pymongo import MongoClient\n",
    "from selenium.webdriver.support.ui import WebDriverWait\n",
    "from selenium.webdriver.support import expected_conditions as EC\n",
    "from selenium.webdriver.common.keys import Keys\n",
    "import random\n",
    "from selenium.common.exceptions import NoSuchElementException , ElementNotInteractableException\n",
    "from selenium.webdriver.common.by import By\n",
    "import pandas as pd\n",
    "from selenium.webdriver.chrome.options import Options\n",
    "options= Options()\n",
    "options.page_load_strategy = 'eager'\n",
    "options.headless = True\n",
    "options.add_argument(r\"--user-data-dir=C:\\\\Users\\\\USER\\AppData\\\\Local\\\\Google\\\\Chrome\\\\User Data\\Default\")\n",
    "options.add_argument(\"--disable-javascript\")\n",
    "options.add_argument(\"--blink-settings=imagesEnabled=false\")\n",
    "driver = webdriver.Chrome(options=options)"
   ]
  },
  {
   "cell_type": "code",
   "execution_count": 9,
   "metadata": {},
   "outputs": [],
   "source": [
    "driver.get('https://homedy.com/ban-nha-dat')"
   ]
  },
  {
   "cell_type": "code",
   "execution_count": 17,
   "metadata": {},
   "outputs": [
    {
     "data": {
      "text/plain": [
       "'https://homedy.com/ban-nha-dat/p2'"
      ]
     },
     "execution_count": 17,
     "metadata": {},
     "output_type": "execute_result"
    }
   ],
   "source": [
    "k=driver.find_elements(By.CSS_SELECTOR,'.page-nav a ')\n",
    "i=k[-1].get_attribute('href')\n",
    "i"
   ]
  }
 ],
 "metadata": {
  "kernelspec": {
   "display_name": "Python 3",
   "language": "python",
   "name": "python3"
  },
  "language_info": {
   "codemirror_mode": {
    "name": "ipython",
    "version": 3
   },
   "file_extension": ".py",
   "mimetype": "text/x-python",
   "name": "python",
   "nbconvert_exporter": "python",
   "pygments_lexer": "ipython3",
   "version": "3.11.4"
  }
 },
 "nbformat": 4,
 "nbformat_minor": 2
}
