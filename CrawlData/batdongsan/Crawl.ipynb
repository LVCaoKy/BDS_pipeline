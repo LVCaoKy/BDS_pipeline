{
 "cells": [
  {
   "cell_type": "markdown",
   "metadata": {},
   "source": [
    "# Library "
   ]
  },
  {
   "cell_type": "code",
   "execution_count": 1,
   "metadata": {},
   "outputs": [],
   "source": [
    "import numpy as np\n",
    "from selenium import webdriver\n",
    "from time import sleep\n",
    "import re\n",
    "from pymongo import MongoClient\n",
    "from selenium.webdriver.support.ui import WebDriverWait\n",
    "from selenium.webdriver.support import expected_conditions as EC\n",
    "from selenium.webdriver.common.keys import Keys\n",
    "import random\n",
    "from selenium.common.exceptions import NoSuchElementException , ElementNotInteractableException\n",
    "from selenium.webdriver.common.by import By\n",
    "import pandas as pd\n",
    "from selenium.webdriver.chrome.options import Options"
   ]
  },
  {
   "cell_type": "markdown",
   "metadata": {},
   "source": [
    "# Class Crawl"
   ]
  },
  {
   "cell_type": "code",
   "execution_count": 2,
   "metadata": {},
   "outputs": [],
   "source": [
    "class batdongsan():\n",
    "    def __init__(self,link,name=[]):\n",
    "        self.link = link\n",
    "        self.name = name\n",
    "        self.result = pd.DataFrame(columns=name)\n",
    "        options= Options()\n",
    "        options.page_load_strategy = 'eager'\n",
    "        options.headless = True\n",
    "        options.add_argument(r\"--user-data-dir=C:\\\\Users\\\\USER\\AppData\\\\Local\\\\Google\\\\Chrome\\\\User Data\\Default\")\n",
    "        options.add_argument(\"--disable-javascript\")\n",
    "        options.add_argument(\"--blink-settings=imagesEnabled=false\")\n",
    "        self.driver = webdriver.Chrome(options=options)\n",
    "    def Crawl(self):\n",
    "        web_page=self.link\n",
    "        while True :\n",
    "            List_link , next_page = self.get_links(web_page)\n",
    "            for i in range(len(List_link)-1):\n",
    "                # if List_link[i] in link_have :\n",
    "                #     continue\n",
    "                self.getData(List_link[i])\n",
    "            web_page = next_page\n",
    "            if web_page == None:\n",
    "                break\n",
    "    def get_links(self,link):\n",
    "        driver = self.driver\n",
    "        driver.get(link)\n",
    "        WebDriverWait(driver, 10).until(\n",
    "            EC.presence_of_all_elements_located((By.CSS_SELECTOR, \n",
    "            'a.js__product-link-for-product-id'))\n",
    "        )\n",
    "\n",
    "        text = driver.find_elements(By.CSS_SELECTOR,\n",
    "        'a.js__product-link-for-product-id')\n",
    "        links= [i.get_attribute('href') for i in text]\n",
    "\n",
    "        next_page = WebDriverWait(driver, 10).until(\n",
    "            EC.presence_of_element_located((By.CSS_SELECTOR,\n",
    "            'a.re__pagination-icon'))\n",
    "        )\n",
    "        next_page = next_page.get_attribute('href')\n",
    "        \n",
    "        return links  ,next_page\n",
    "    def getData(self,link):\n",
    "        driver = self.driver\n",
    "        test = pd.Series(index=self.name)\n",
    "        driver.get(link)\n",
    "\n",
    "\n",
    "        # Các nội dung tổng quan về mẫu\n",
    "        test['Link'] = link\n",
    "        test['Title'] = driver.find_element(By.CSS_SELECTOR,'h1.re__pr-title').text\n",
    "        test['Address'] = driver.find_element(By.CSS_SELECTOR,'.js__pr-address').text\n",
    "\n",
    "        # Thử lấy dữ liệu xác thực và số zalo liên hệ\n",
    "        try:\n",
    "            test['Check'] = driver.find_element(By.CSS_SELECTOR,\n",
    "            '.js__product-detail-web .re__pr-stick-listing-verified .re__text').text\n",
    "            \n",
    "        except NoSuchElementException :\n",
    "            test['Check']='Chưa Xác Thực'\n",
    "        # Thử lấy dữ liệu chi tiêt về mẫu\n",
    "        name_data = driver.find_elements(By.CSS_SELECTOR,\n",
    "\n",
    "        '.js__li-specs  .js__section-body .js__other-info .re__pr-specs-content-item .re__pr-specs-content-item-title')\n",
    "        value_data =  driver.find_elements(By.CSS_SELECTOR,\n",
    "\n",
    "        '.js__li-specs  .js__section-body .js__other-info .re__pr-specs-content-item .re__pr-specs-content-item-value')\n",
    "        data = pd.Series(value_data,index=name_data)\n",
    "\n",
    "        for i in range(len(name_data)):\n",
    "            test[name_data[i].text] = value_data[i].text\n",
    "\n",
    "        name_data_2 = driver.find_elements(By.CSS_SELECTOR,\n",
    "        '.js__pr-config .js__pr-config-item .title')\n",
    "\n",
    "        value_data_2 = driver.find_elements(By.CSS_SELECTOR,\n",
    "        '.js__pr-config .js__pr-config-item .value')\n",
    "\n",
    "        for i in range(len(name_data_2)):\n",
    "            test[name_data_2[i].text] = value_data_2[i].text\n",
    "\n",
    "        self.result = pd.concat([self.result, test.to_frame().T], ignore_index=True)\n"
   ]
  },
  {
   "cell_type": "markdown",
   "metadata": {},
   "source": [
    "# Crawl Data"
   ]
  },
  {
   "cell_type": "markdown",
   "metadata": {},
   "source": [
    "- Infomation before crawl"
   ]
  },
  {
   "cell_type": "code",
   "execution_count": 3,
   "metadata": {},
   "outputs": [],
   "source": [
    "nameCol = ['Link','Diện tích', 'Mức giá','Hướng nhà', 'Số tầng', 'Số phòng ngủ', 'Số toilet', 'Pháp lý',\n",
    " 'Nội thất','Title','Address','Ngày đăng','Ngày hết hạn','Loại tin','Mã tin','Check']\n",
    "link_web = 'https://batdongsan.com.vn/ban-nha-dat-tp-hcm'"
   ]
  },
  {
   "cell_type": "markdown",
   "metadata": {},
   "source": [
    "- List sample that was colected to not crawl dulicate sample"
   ]
  },
  {
   "cell_type": "code",
   "execution_count": 4,
   "metadata": {},
   "outputs": [],
   "source": [
    "# df_have = pd.read_csv('E:\\DE_JOB\\Presonal_Project\\Pineline_ETL\\CrawlData\\\\batdongsan\\\\batdongsan.csv')\n",
    "# link_have=df_have['Link']"
   ]
  },
  {
   "cell_type": "markdown",
   "metadata": {},
   "source": [
    "- Create Class"
   ]
  },
  {
   "cell_type": "code",
   "execution_count": 5,
   "metadata": {},
   "outputs": [],
   "source": [
    "X = batdongsan(link=link_web,name=nameCol)"
   ]
  },
  {
   "cell_type": "markdown",
   "metadata": {},
   "source": [
    "- Crawl Data"
   ]
  },
  {
   "cell_type": "code",
   "execution_count": 6,
   "metadata": {},
   "outputs": [
    {
     "name": "stderr",
     "output_type": "stream",
     "text": [
      "C:\\Users\\USER\\AppData\\Local\\Temp\\ipykernel_14212\\850186965.py:50: FutureWarning: Setting an item of incompatible dtype is deprecated and will raise in a future error of pandas. Value 'https://batdongsan.com.vn/ban-nha-rieng-duong-pham-ngu-lao-phuong-3-20/ban-dep-khu-pho-an-ninh-41-12-p-3-go-vap-pr41422117' has dtype incompatible with float64, please explicitly cast to a compatible dtype first.\n",
      "  test['Link'] = link\n",
      "C:\\Users\\USER\\AppData\\Local\\Temp\\ipykernel_14212\\850186965.py:50: FutureWarning: Setting an item of incompatible dtype is deprecated and will raise in a future error of pandas. Value 'https://batdongsan.com.vn/ban-nha-rieng-duong-hoang-van-thu-phuong-9-12/ban-32m2-2-mat-tien-tai-phu-nhuan-gia-6-85-ty-4-pn-3-pt-pr41427152' has dtype incompatible with float64, please explicitly cast to a compatible dtype first.\n",
      "  test['Link'] = link\n",
      "C:\\Users\\USER\\AppData\\Local\\Temp\\ipykernel_14212\\850186965.py:50: FutureWarning: Setting an item of incompatible dtype is deprecated and will raise in a future error of pandas. Value 'https://batdongsan.com.vn/ban-nha-biet-thu-lien-ke-duong-do-xuan-hop-phuong-an-phu-prj-the-global-city/full-gio-hang-chuyen-nhuong-t6-2024-pho-gia-tot-t-thi-truong-31-5-ty-pr40315272' has dtype incompatible with float64, please explicitly cast to a compatible dtype first.\n",
      "  test['Link'] = link\n",
      "C:\\Users\\USER\\AppData\\Local\\Temp\\ipykernel_14212\\850186965.py:50: FutureWarning: Setting an item of incompatible dtype is deprecated and will raise in a future error of pandas. Value 'https://batdongsan.com.vn/ban-nha-rieng-duong-binh-loi-phuong-13-7/cuc-hiem-5x20m-san-4-tang-ngay-cong-vien-p13-thanh-12-5-ty-tl-pr40881360' has dtype incompatible with float64, please explicitly cast to a compatible dtype first.\n",
      "  test['Link'] = link\n",
      "C:\\Users\\USER\\AppData\\Local\\Temp\\ipykernel_14212\\850186965.py:50: FutureWarning: Setting an item of incompatible dtype is deprecated and will raise in a future error of pandas. Value 'https://batdongsan.com.vn/ban-nha-mat-pho-duong-truong-sa-phuong-13-1/ban-sieu-pham-3-tien-hoang-quan-3-hdt-highland-160-trieu-29-10m-gia-chi-76-ty-pr41280311' has dtype incompatible with float64, please explicitly cast to a compatible dtype first.\n",
      "  test['Link'] = link\n",
      "C:\\Users\\USER\\AppData\\Local\\Temp\\ipykernel_14212\\850186965.py:50: FutureWarning: Setting an item of incompatible dtype is deprecated and will raise in a future error of pandas. Value 'https://batdongsan.com.vn/ban-nha-mat-pho-duong-truong-sa-phuong-2-21/ban-tien-view-song-khu-am-thuc-phan-xich-long-phu-nhuan-dt-8x17m-136m2-pr41275824' has dtype incompatible with float64, please explicitly cast to a compatible dtype first.\n",
      "  test['Link'] = link\n",
      "C:\\Users\\USER\\AppData\\Local\\Temp\\ipykernel_14212\\850186965.py:50: FutureWarning: Setting an item of incompatible dtype is deprecated and will raise in a future error of pandas. Value 'https://batdongsan.com.vn/ban-nha-rieng-duong-nguyen-van-thuong-phuong-25/ban-khu-ban-co-3-9m-x15m-4-lau-oto-8m-moi-pr41216754' has dtype incompatible with float64, please explicitly cast to a compatible dtype first.\n",
      "  test['Link'] = link\n",
      "C:\\Users\\USER\\AppData\\Local\\Temp\\ipykernel_14212\\850186965.py:50: FutureWarning: Setting an item of incompatible dtype is deprecated and will raise in a future error of pandas. Value 'https://batdongsan.com.vn/ban-nha-rieng-duong-vu-tung-phuong-2-20/ban-gan-cho-ba-chieu-oto-ne-u-co-gpxd-4-lau-rhu-p-15tr-thang-pr41324229' has dtype incompatible with float64, please explicitly cast to a compatible dtype first.\n",
      "  test['Link'] = link\n",
      "C:\\Users\\USER\\AppData\\Local\\Temp\\ipykernel_14212\\850186965.py:50: FutureWarning: Setting an item of incompatible dtype is deprecated and will raise in a future error of pandas. Value 'https://batdongsan.com.vn/ban-nha-rieng-duong-d6-phuong-phu-my-9/-dep-o-ngay-full-noi-that-cao-cap-co-thang-may-khu-compoud-co-bao-ve-va-cong-vien-gia-9-8-ty-pr39351252' has dtype incompatible with float64, please explicitly cast to a compatible dtype first.\n",
      "  test['Link'] = link\n",
      "C:\\Users\\USER\\AppData\\Local\\Temp\\ipykernel_14212\\850186965.py:50: FutureWarning: Setting an item of incompatible dtype is deprecated and will raise in a future error of pandas. Value 'https://batdongsan.com.vn/ban-nha-rieng-phuong-phu-my-9/sieu-pham-hien-dai-luxury-canh-hung-duong-so-quan-7-gia-16-6-ty-5x16m-pr41340827' has dtype incompatible with float64, please explicitly cast to a compatible dtype first.\n",
      "  test['Link'] = link\n",
      "C:\\Users\\USER\\AppData\\Local\\Temp\\ipykernel_14212\\850186965.py:50: FutureWarning: Setting an item of incompatible dtype is deprecated and will raise in a future error of pandas. Value 'https://batdongsan.com.vn/ban-nha-rieng-duong-nguyen-trai-phuong-nguyen-cu-trinh/toa-chdv-hem-xe-tai-dong-tien-120tr-th-6m-x-18-ham-6-lau-quan-1-gia-30-ty-pr40672697' has dtype incompatible with float64, please explicitly cast to a compatible dtype first.\n",
      "  test['Link'] = link\n",
      "C:\\Users\\USER\\AppData\\Local\\Temp\\ipykernel_14212\\850186965.py:50: FutureWarning: Setting an item of incompatible dtype is deprecated and will raise in a future error of pandas. Value 'https://batdongsan.com.vn/ban-nha-rieng-duong-ton-that-thuyet-phuong-3/-60m2-6-tang-hoan-cong-du-view-song-landmark-81-chi-6-4-ty-pr40654344' has dtype incompatible with float64, please explicitly cast to a compatible dtype first.\n",
      "  test['Link'] = link\n",
      "C:\\Users\\USER\\AppData\\Local\\Temp\\ipykernel_14212\\850186965.py:50: FutureWarning: Setting an item of incompatible dtype is deprecated and will raise in a future error of pandas. Value 'https://batdongsan.com.vn/ban-nha-rieng-duong-phan-huy-ich-phuong-12-8/chinh-chu-ban-f12-go-vap-sat-sieu-thi-emart-dt-4-6-x17-tret-lung-3-lau-pr41412919' has dtype incompatible with float64, please explicitly cast to a compatible dtype first.\n",
      "  test['Link'] = link\n",
      "C:\\Users\\USER\\AppData\\Local\\Temp\\ipykernel_14212\\850186965.py:50: FutureWarning: Setting an item of incompatible dtype is deprecated and will raise in a future error of pandas. Value 'https://batdongsan.com.vn/ban-can-ho-chung-cu-duong-le-thanh-tong-phuong-van-my-prj-moonbay-residence-384-le-thanh-tong/chinh-chu-ban-nhanh-2-1-70m2-tang-trung-view-dao-vu-yen-da-384-tra-truoc-600tr-pr40528347?source=ad&adid=2641483' has dtype incompatible with float64, please explicitly cast to a compatible dtype first.\n",
      "  test['Link'] = link\n",
      "C:\\Users\\USER\\AppData\\Local\\Temp\\ipykernel_14212\\850186965.py:50: FutureWarning: Setting an item of incompatible dtype is deprecated and will raise in a future error of pandas. Value 'https://batdongsan.com.vn/ban-nha-rieng-duong-pham-van-chieu-phuong-14-8/sieu-ngang-5m-sat-mat-tien-p-14-go-vapdt-5x12-tret-1lung-3lau-chi-8ty9-pr41410567' has dtype incompatible with float64, please explicitly cast to a compatible dtype first.\n",
      "  test['Link'] = link\n",
      "C:\\Users\\USER\\AppData\\Local\\Temp\\ipykernel_14212\\850186965.py:50: FutureWarning: Setting an item of incompatible dtype is deprecated and will raise in a future error of pandas. Value 'https://batdongsan.com.vn/ban-nha-rieng-duong-le-thuc-hoach-phuong-phu-tho-hoa/ban-1-8m-19-tai-quan-tan-tp-hcm-pr41408975' has dtype incompatible with float64, please explicitly cast to a compatible dtype first.\n",
      "  test['Link'] = link\n",
      "C:\\Users\\USER\\AppData\\Local\\Temp\\ipykernel_14212\\850186965.py:50: FutureWarning: Setting an item of incompatible dtype is deprecated and will raise in a future error of pandas. Value 'https://batdongsan.com.vn/ban-nha-biet-thu-lien-ke-duong-2-1-phuong-hiep-binh-phuoc-prj-khu-do-thi-van-phuc-city/ban-kdt-2-hoan-thien-5x17-11-ty-6x17-tho-11-ty-7x17-14-5-ty-7x19-14-5-pr24592105' has dtype incompatible with float64, please explicitly cast to a compatible dtype first.\n",
      "  test['Link'] = link\n"
     ]
    },
    {
     "ename": "NoSuchElementException",
     "evalue": "Message: no such element: Unable to locate element: {\"method\":\"css selector\",\"selector\":\"h1.re__pr-title\"}\n  (Session info: chrome=130.0.6723.92); For documentation on this error, please visit: https://www.selenium.dev/documentation/webdriver/troubleshooting/errors#no-such-element-exception\nStacktrace:\n\tGetHandleVerifier [0x00007FF6D4C438A5+3004357]\n\t(No symbol) [0x00007FF6D48D9970]\n\t(No symbol) [0x00007FF6D478582A]\n\t(No symbol) [0x00007FF6D47D5B8E]\n\t(No symbol) [0x00007FF6D47D5E7C]\n\t(No symbol) [0x00007FF6D481EC27]\n\t(No symbol) [0x00007FF6D47FBC1F]\n\t(No symbol) [0x00007FF6D481BA4C]\n\t(No symbol) [0x00007FF6D47FB983]\n\t(No symbol) [0x00007FF6D47C7628]\n\t(No symbol) [0x00007FF6D47C8791]\n\tGetHandleVerifier [0x00007FF6D4C6A00D+3161901]\n\tGetHandleVerifier [0x00007FF6D4CBE060+3506048]\n\tGetHandleVerifier [0x00007FF6D4CB400D+3465005]\n\tGetHandleVerifier [0x00007FF6D4A30EEB+830987]\n\t(No symbol) [0x00007FF6D48E467F]\n\t(No symbol) [0x00007FF6D48E09D4]\n\t(No symbol) [0x00007FF6D48E0B6D]\n\t(No symbol) [0x00007FF6D48D0149]\n\tBaseThreadInitThunk [0x00007FFCF82D7034+20]\n\tRtlUserThreadStart [0x00007FFCF88A2651+33]\n",
     "output_type": "error",
     "traceback": [
      "\u001b[1;31m---------------------------------------------------------------------------\u001b[0m",
      "\u001b[1;31mNoSuchElementException\u001b[0m                    Traceback (most recent call last)",
      "Cell \u001b[1;32mIn[6], line 1\u001b[0m\n\u001b[1;32m----> 1\u001b[0m \u001b[43mX\u001b[49m\u001b[38;5;241;43m.\u001b[39;49m\u001b[43mCrawl\u001b[49m\u001b[43m(\u001b[49m\u001b[43m)\u001b[49m\n",
      "Cell \u001b[1;32mIn[2], line 20\u001b[0m, in \u001b[0;36mbatdongsan.Crawl\u001b[1;34m(self)\u001b[0m\n\u001b[0;32m     16\u001b[0m List_link , next_page \u001b[38;5;241m=\u001b[39m \u001b[38;5;28mself\u001b[39m\u001b[38;5;241m.\u001b[39mget_links(web_page)\n\u001b[0;32m     17\u001b[0m \u001b[38;5;28;01mfor\u001b[39;00m i \u001b[38;5;129;01min\u001b[39;00m \u001b[38;5;28mrange\u001b[39m(\u001b[38;5;28mlen\u001b[39m(List_link)\u001b[38;5;241m-\u001b[39m\u001b[38;5;241m1\u001b[39m):\n\u001b[0;32m     18\u001b[0m     \u001b[38;5;66;03m# if List_link[i] in link_have :\u001b[39;00m\n\u001b[0;32m     19\u001b[0m     \u001b[38;5;66;03m#     continue\u001b[39;00m\n\u001b[1;32m---> 20\u001b[0m     \u001b[38;5;28;43mself\u001b[39;49m\u001b[38;5;241;43m.\u001b[39;49m\u001b[43mgetData\u001b[49m\u001b[43m(\u001b[49m\u001b[43mList_link\u001b[49m\u001b[43m[\u001b[49m\u001b[43mi\u001b[49m\u001b[43m]\u001b[49m\u001b[43m)\u001b[49m\n\u001b[0;32m     21\u001b[0m web_page \u001b[38;5;241m=\u001b[39m next_page\n\u001b[0;32m     22\u001b[0m \u001b[38;5;28;01mif\u001b[39;00m web_page \u001b[38;5;241m==\u001b[39m \u001b[38;5;28;01mNone\u001b[39;00m:\n",
      "Cell \u001b[1;32mIn[2], line 51\u001b[0m, in \u001b[0;36mbatdongsan.getData\u001b[1;34m(self, link)\u001b[0m\n\u001b[0;32m     49\u001b[0m \u001b[38;5;66;03m# Các nội dung tổng quan về mẫu\u001b[39;00m\n\u001b[0;32m     50\u001b[0m test[\u001b[38;5;124m'\u001b[39m\u001b[38;5;124mLink\u001b[39m\u001b[38;5;124m'\u001b[39m] \u001b[38;5;241m=\u001b[39m link\n\u001b[1;32m---> 51\u001b[0m test[\u001b[38;5;124m'\u001b[39m\u001b[38;5;124mTitle\u001b[39m\u001b[38;5;124m'\u001b[39m] \u001b[38;5;241m=\u001b[39m \u001b[43mdriver\u001b[49m\u001b[38;5;241;43m.\u001b[39;49m\u001b[43mfind_element\u001b[49m\u001b[43m(\u001b[49m\u001b[43mBy\u001b[49m\u001b[38;5;241;43m.\u001b[39;49m\u001b[43mCSS_SELECTOR\u001b[49m\u001b[43m,\u001b[49m\u001b[38;5;124;43m'\u001b[39;49m\u001b[38;5;124;43mh1.re__pr-title\u001b[39;49m\u001b[38;5;124;43m'\u001b[39;49m\u001b[43m)\u001b[49m\u001b[38;5;241m.\u001b[39mtext\n\u001b[0;32m     52\u001b[0m test[\u001b[38;5;124m'\u001b[39m\u001b[38;5;124mAddress\u001b[39m\u001b[38;5;124m'\u001b[39m] \u001b[38;5;241m=\u001b[39m driver\u001b[38;5;241m.\u001b[39mfind_element(By\u001b[38;5;241m.\u001b[39mCSS_SELECTOR,\u001b[38;5;124m'\u001b[39m\u001b[38;5;124m.js__pr-address\u001b[39m\u001b[38;5;124m'\u001b[39m)\u001b[38;5;241m.\u001b[39mtext\n\u001b[0;32m     54\u001b[0m \u001b[38;5;66;03m# Thử lấy dữ liệu xác thực và số zalo liên hệ\u001b[39;00m\n",
      "File \u001b[1;32mc:\\Users\\USER\\AppData\\Local\\Programs\\Python\\Python311\\Lib\\site-packages\\selenium\\webdriver\\remote\\webdriver.py:748\u001b[0m, in \u001b[0;36mWebDriver.find_element\u001b[1;34m(self, by, value)\u001b[0m\n\u001b[0;32m    745\u001b[0m     by \u001b[38;5;241m=\u001b[39m By\u001b[38;5;241m.\u001b[39mCSS_SELECTOR\n\u001b[0;32m    746\u001b[0m     value \u001b[38;5;241m=\u001b[39m \u001b[38;5;124mf\u001b[39m\u001b[38;5;124m'\u001b[39m\u001b[38;5;124m[name=\u001b[39m\u001b[38;5;124m\"\u001b[39m\u001b[38;5;132;01m{\u001b[39;00mvalue\u001b[38;5;132;01m}\u001b[39;00m\u001b[38;5;124m\"\u001b[39m\u001b[38;5;124m]\u001b[39m\u001b[38;5;124m'\u001b[39m\n\u001b[1;32m--> 748\u001b[0m \u001b[38;5;28;01mreturn\u001b[39;00m \u001b[38;5;28;43mself\u001b[39;49m\u001b[38;5;241;43m.\u001b[39;49m\u001b[43mexecute\u001b[49m\u001b[43m(\u001b[49m\u001b[43mCommand\u001b[49m\u001b[38;5;241;43m.\u001b[39;49m\u001b[43mFIND_ELEMENT\u001b[49m\u001b[43m,\u001b[49m\u001b[43m \u001b[49m\u001b[43m{\u001b[49m\u001b[38;5;124;43m\"\u001b[39;49m\u001b[38;5;124;43musing\u001b[39;49m\u001b[38;5;124;43m\"\u001b[39;49m\u001b[43m:\u001b[49m\u001b[43m \u001b[49m\u001b[43mby\u001b[49m\u001b[43m,\u001b[49m\u001b[43m \u001b[49m\u001b[38;5;124;43m\"\u001b[39;49m\u001b[38;5;124;43mvalue\u001b[39;49m\u001b[38;5;124;43m\"\u001b[39;49m\u001b[43m:\u001b[49m\u001b[43m \u001b[49m\u001b[43mvalue\u001b[49m\u001b[43m}\u001b[49m\u001b[43m)\u001b[49m[\u001b[38;5;124m\"\u001b[39m\u001b[38;5;124mvalue\u001b[39m\u001b[38;5;124m\"\u001b[39m]\n",
      "File \u001b[1;32mc:\\Users\\USER\\AppData\\Local\\Programs\\Python\\Python311\\Lib\\site-packages\\selenium\\webdriver\\remote\\webdriver.py:354\u001b[0m, in \u001b[0;36mWebDriver.execute\u001b[1;34m(self, driver_command, params)\u001b[0m\n\u001b[0;32m    352\u001b[0m response \u001b[38;5;241m=\u001b[39m \u001b[38;5;28mself\u001b[39m\u001b[38;5;241m.\u001b[39mcommand_executor\u001b[38;5;241m.\u001b[39mexecute(driver_command, params)\n\u001b[0;32m    353\u001b[0m \u001b[38;5;28;01mif\u001b[39;00m response:\n\u001b[1;32m--> 354\u001b[0m     \u001b[38;5;28;43mself\u001b[39;49m\u001b[38;5;241;43m.\u001b[39;49m\u001b[43merror_handler\u001b[49m\u001b[38;5;241;43m.\u001b[39;49m\u001b[43mcheck_response\u001b[49m\u001b[43m(\u001b[49m\u001b[43mresponse\u001b[49m\u001b[43m)\u001b[49m\n\u001b[0;32m    355\u001b[0m     response[\u001b[38;5;124m\"\u001b[39m\u001b[38;5;124mvalue\u001b[39m\u001b[38;5;124m\"\u001b[39m] \u001b[38;5;241m=\u001b[39m \u001b[38;5;28mself\u001b[39m\u001b[38;5;241m.\u001b[39m_unwrap_value(response\u001b[38;5;241m.\u001b[39mget(\u001b[38;5;124m\"\u001b[39m\u001b[38;5;124mvalue\u001b[39m\u001b[38;5;124m\"\u001b[39m, \u001b[38;5;28;01mNone\u001b[39;00m))\n\u001b[0;32m    356\u001b[0m     \u001b[38;5;28;01mreturn\u001b[39;00m response\n",
      "File \u001b[1;32mc:\\Users\\USER\\AppData\\Local\\Programs\\Python\\Python311\\Lib\\site-packages\\selenium\\webdriver\\remote\\errorhandler.py:229\u001b[0m, in \u001b[0;36mErrorHandler.check_response\u001b[1;34m(self, response)\u001b[0m\n\u001b[0;32m    227\u001b[0m         alert_text \u001b[38;5;241m=\u001b[39m value[\u001b[38;5;124m\"\u001b[39m\u001b[38;5;124malert\u001b[39m\u001b[38;5;124m\"\u001b[39m]\u001b[38;5;241m.\u001b[39mget(\u001b[38;5;124m\"\u001b[39m\u001b[38;5;124mtext\u001b[39m\u001b[38;5;124m\"\u001b[39m)\n\u001b[0;32m    228\u001b[0m     \u001b[38;5;28;01mraise\u001b[39;00m exception_class(message, screen, stacktrace, alert_text)  \u001b[38;5;66;03m# type: ignore[call-arg]  # mypy is not smart enough here\u001b[39;00m\n\u001b[1;32m--> 229\u001b[0m \u001b[38;5;28;01mraise\u001b[39;00m exception_class(message, screen, stacktrace)\n",
      "\u001b[1;31mNoSuchElementException\u001b[0m: Message: no such element: Unable to locate element: {\"method\":\"css selector\",\"selector\":\"h1.re__pr-title\"}\n  (Session info: chrome=130.0.6723.92); For documentation on this error, please visit: https://www.selenium.dev/documentation/webdriver/troubleshooting/errors#no-such-element-exception\nStacktrace:\n\tGetHandleVerifier [0x00007FF6D4C438A5+3004357]\n\t(No symbol) [0x00007FF6D48D9970]\n\t(No symbol) [0x00007FF6D478582A]\n\t(No symbol) [0x00007FF6D47D5B8E]\n\t(No symbol) [0x00007FF6D47D5E7C]\n\t(No symbol) [0x00007FF6D481EC27]\n\t(No symbol) [0x00007FF6D47FBC1F]\n\t(No symbol) [0x00007FF6D481BA4C]\n\t(No symbol) [0x00007FF6D47FB983]\n\t(No symbol) [0x00007FF6D47C7628]\n\t(No symbol) [0x00007FF6D47C8791]\n\tGetHandleVerifier [0x00007FF6D4C6A00D+3161901]\n\tGetHandleVerifier [0x00007FF6D4CBE060+3506048]\n\tGetHandleVerifier [0x00007FF6D4CB400D+3465005]\n\tGetHandleVerifier [0x00007FF6D4A30EEB+830987]\n\t(No symbol) [0x00007FF6D48E467F]\n\t(No symbol) [0x00007FF6D48E09D4]\n\t(No symbol) [0x00007FF6D48E0B6D]\n\t(No symbol) [0x00007FF6D48D0149]\n\tBaseThreadInitThunk [0x00007FFCF82D7034+20]\n\tRtlUserThreadStart [0x00007FFCF88A2651+33]\n"
     ]
    }
   ],
   "source": [
    "X.Crawl()"
   ]
  },
  {
   "cell_type": "markdown",
   "metadata": {},
   "source": [
    "# Store Data"
   ]
  },
  {
   "cell_type": "markdown",
   "metadata": {},
   "source": [
    "- MongoDB"
   ]
  },
  {
   "cell_type": "code",
   "execution_count": 7,
   "metadata": {},
   "outputs": [
    {
     "data": {
      "text/plain": [
       "InsertManyResult([ObjectId('672c2a5d116e250d3d8b8e1c'), ObjectId('672c2a5d116e250d3d8b8e1d'), ObjectId('672c2a5d116e250d3d8b8e1e'), ObjectId('672c2a5d116e250d3d8b8e1f'), ObjectId('672c2a5d116e250d3d8b8e20'), ObjectId('672c2a5d116e250d3d8b8e21'), ObjectId('672c2a5d116e250d3d8b8e22'), ObjectId('672c2a5d116e250d3d8b8e23'), ObjectId('672c2a5d116e250d3d8b8e24'), ObjectId('672c2a5d116e250d3d8b8e25'), ObjectId('672c2a5d116e250d3d8b8e26'), ObjectId('672c2a5d116e250d3d8b8e27'), ObjectId('672c2a5d116e250d3d8b8e28'), ObjectId('672c2a5d116e250d3d8b8e29'), ObjectId('672c2a5d116e250d3d8b8e2a'), ObjectId('672c2a5d116e250d3d8b8e2b')], acknowledged=True)"
      ]
     },
     "execution_count": 7,
     "metadata": {},
     "output_type": "execute_result"
    }
   ],
   "source": [
    "client = MongoClient(\"mongodb://localhost:27017/\")\n",
    "db = client[\"batdongsan\"]\n",
    "collection = db[\"batdongsan\"]\n",
    "data=X.result\n",
    "data_dict = data.to_dict(\"records\")\n",
    "collection.insert_many(data_dict)"
   ]
  },
  {
   "cell_type": "markdown",
   "metadata": {},
   "source": [
    "- PostgresSQL"
   ]
  },
  {
   "cell_type": "code",
   "execution_count": null,
   "metadata": {},
   "outputs": [
    {
     "data": {
      "text/plain": [
       "23"
      ]
     },
     "execution_count": 2,
     "metadata": {},
     "output_type": "execute_result"
    }
   ],
   "source": [
    "from sqlalchemy import create_engine\n",
    "data = X.result\n",
    "# Thông tin kết nối PostgreSQL\n",
    "db_user = \"postgres\"\n",
    "db_password = \"ky1213141516\"\n",
    "db_host = \"localhost\"\n",
    "db_port = \"3000\"\n",
    "db_name = \"postgres\"\n",
    "\n",
    "# Tạo kết nối với PostgreSQL\n",
    "engine = create_engine(f\"postgresql+psycopg2://{db_user}:{db_password}@{db_host}:{db_port}/{db_name}\")\n",
    "\n",
    "# Lưu DataFrame vào PostgreSQL (chọn tên bảng phù hợp)\n",
    "data.to_sql('batdongsan', engine, if_exists='replace', index=False)"
   ]
  }
 ],
 "metadata": {
  "kernelspec": {
   "display_name": "Python 3",
   "language": "python",
   "name": "python3"
  },
  "language_info": {
   "codemirror_mode": {
    "name": "ipython",
    "version": 3
   },
   "file_extension": ".py",
   "mimetype": "text/x-python",
   "name": "python",
   "nbconvert_exporter": "python",
   "pygments_lexer": "ipython3",
   "version": "3.11.4"
  }
 },
 "nbformat": 4,
 "nbformat_minor": 2
}
